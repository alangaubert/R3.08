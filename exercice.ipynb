{
 "cells": [
  {
   "cell_type": "markdown",
   "id": "ca527e74",
   "metadata": {},
   "source": [
    "### Exercice 1 · Classe Point2D (30 min)\n",
    "\n",
    "**Objectif :** Maîtriser la syntaxe de base (`class`, `__init__`, `self`), attributs et méthodes d'instance.\n",
    "\n",
    "Créez un fichier `point.py`. Dans ce fichier, implémentez une classe Point2D pour représenter un point dans un plan cartésien.\n",
    "\n",
    "1. Le constructeur __init__(self, x, y) initialisera les attributs d'instance x et y.\n",
    "2. La méthode __repr__(self) devra retourner une chaîne de caractères \"officielle\" et non ambiguë, par exemple Point2D(x=1, y=2).\n",
    "3. La méthode deplacer(self, dx, dy) modifiera les coordonnées du point en lui ajoutant dx et dy.\n",
    "4. La méthode distance(self, autre_point) calculera et retournera la distance euclidienne entre le point courant (self) et une autre instance de Point2D. La formule est $d=sqrt(x_2−x_1)2+(y_2−y_1)2$ . Vous aurez besoin d'importer le module math."
   ]
  },
  {
   "cell_type": "code",
   "execution_count": 6,
   "id": "da38a9d2",
   "metadata": {},
   "outputs": [
    {
     "name": "stdout",
     "output_type": "stream",
     "text": [
      "Point 1 : Point2D(1, 2)\n",
      "Point 2 : Point2D(4, 6)\n",
      "Distance entre p1 et p2 : 5.0\n",
      "Point 1 après déplacement : Point2D(2, 1)\n",
      "Tests de l'exercice 1 passés avec succès !\n"
     ]
    }
   ],
   "source": [
    "import math\n",
    "\n",
    "class Point2D:\n",
    "    \"\"\"Représente un point dans un plan 2D.\"\"\"\n",
    "    \n",
    "    def __init__(self, x: float = 0.0, y: float = 0.0):\n",
    "        # TODO: initialiser x et y\n",
    "        self.x = x  \n",
    "        self.y = y  # Initialiser les coordonnées\n",
    "        pass\n",
    "\n",
    "    def __repr__(self) -> str:\n",
    "        # TODO: retourner une représentation textuelle\n",
    "        return f\"Point2D({self.x}, {self.y})\" # Retourne une représentation du point\n",
    "    \n",
    "\n",
    "    def deplacer(self, dx: float, dy: float) -> None:\n",
    "        # TODO: modifier les coordonnées x et y\n",
    "        self.x += dx\n",
    "        self.y += dy     # Ajout de x et y à dx et dy\n",
    "        pass\n",
    "\n",
    "    def distance(self, autre_point: \"Point2D\") -> float:\n",
    "        # TODO: calculer et retourner la distance\n",
    "        return math.sqrt((autre_point.x - self.x) ** 2 + (autre_point.y - self.y) ** 2) # Calculer la distance entre deux points\n",
    "\n",
    "# --- Tests à valider ---\n",
    "p1 = Point2D(1, 2)\n",
    "p2 = Point2D(4, 6)\n",
    "\n",
    "print(f\"Point 1 : {p1}\")\n",
    "print(f\"Point 2 : {p2}\")\n",
    "\n",
    "# Test de la distance\n",
    "dist = p1.distance(p2)\n",
    "print(f\"Distance entre p1 et p2 : {dist}\")\n",
    "assert math.isclose(dist, 5.0), \"La distance devrait être 5.0\"\n",
    "\n",
    "# Test du déplacement\n",
    "p1.deplacer(1, -1)\n",
    "print(f\"Point 1 après déplacement : {p1}\")\n",
    "assert p1.x == 2 and p1.y == 1, \"Le point devrait être à (2, 1)\"\n",
    "\n",
    "print(\"Tests de l'exercice 1 passés avec succès !\")"
   ]
  },
  {
   "cell_type": "markdown",
   "id": "8e3d428f",
   "metadata": {},
   "source": [
    "### Exercice 2 · Compteur d'instances avec Ticket (30 min)\n",
    "\n",
    "**Objectif :** Comprendre et utiliser les attributs de classe.\n",
    "\n",
    "Énoncé:\n",
    "\n",
    "Créez un fichier `ticket.py`. Implémentez une classe `Ticket` qui modélise des tickets numérotés uniques.\n",
    "\n",
    "1. Ajoutez un **attribut de classe** `compteur` initialisé à 0.\n",
    "2. Dans le constructeur `__init__`, chaque nouvelle instance de `Ticket` doit se voir assigner un `id` unique. Cet id sera la valeur actuelle de `Ticket.compteur`.\n",
    "3. Après avoir assigné l'ID, incrémentez l'attribut de classe compteur.\n",
    "4. Implémentez la méthode `__repr__` pour qu'elle affiche l'ID du ticket, par exemple `Ticket(id=0)`."
   ]
  },
  {
   "cell_type": "code",
   "execution_count": 7,
   "id": "332aaef8",
   "metadata": {},
   "outputs": [
    {
     "name": "stdout",
     "output_type": "stream",
     "text": [
      "Ticket(id=0)\n",
      "Ticket(id=1)\n",
      "Ticket(id=2)\n",
      "Tests de l'exercice 2 passés avec succès !\n"
     ]
    }
   ],
   "source": [
    "class Ticket:\n",
    "    \"\"\"Un ticket avec un identifiant unique auto-incrémenté.\"\"\"\n",
    "    \n",
    "    # TODO: Créer un attribut de classe pour le compteur\n",
    "    compteur = 0 # Attribut de classe pour compter les tickets\n",
    "    \n",
    "    def __init__(self):\n",
    "        # TODO: Assigner l'ID à l'instance et incrémenter le compteur\n",
    "        self.id = Ticket.compteur  # Assigner l'ID actuel au ticket\n",
    "        Ticket.compteur += 1       # Incrémenter le compteur pour le prochain ticket\n",
    "        pass\n",
    "\n",
    "    def __repr__(self) -> str:\n",
    "        # TODO: Retourner la représentation du ticket\n",
    "        return f\"Ticket(id={self.id})\" # Retourne une représentation du ticket\n",
    "\n",
    "# --- Tests à valider ---\n",
    "ticket1 = Ticket()\n",
    "ticket2 = Ticket()\n",
    "ticket3 = Ticket()\n",
    "\n",
    "print(ticket1)\n",
    "print(ticket2)\n",
    "print(ticket3)\n",
    "\n",
    "assert ticket1.id == 0\n",
    "assert ticket2.id == 1\n",
    "assert ticket3.id == 2\n",
    "assert Ticket.compteur == 3, \"Le compteur de classe devrait être à 3\"\n",
    "\n",
    "print(\"Tests de l'exercice 2 passés avec succès !\")"
   ]
  }
 ],
 "metadata": {
  "kernelspec": {
   "display_name": "Python 3",
   "language": "python",
   "name": "python3"
  },
  "language_info": {
   "codemirror_mode": {
    "name": "ipython",
    "version": 3
   },
   "file_extension": ".py",
   "mimetype": "text/x-python",
   "name": "python",
   "nbconvert_exporter": "python",
   "pygments_lexer": "ipython3",
   "version": "3.12.3"
  }
 },
 "nbformat": 4,
 "nbformat_minor": 5
}
