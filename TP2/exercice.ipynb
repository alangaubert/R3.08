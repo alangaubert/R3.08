{
 "cells": [
  {
   "cell_type": "markdown",
   "id": "ae9b2034",
   "metadata": {},
   "source": [
    "### **Exercice 1 — Classe Date (30 min)**\n",
    "\n",
    "**Objectifs :** validation, invariants, ordre, parsing/formatting.\n",
    "\n",
    "**Énoncé :**\n",
    "\n",
    "Créez `datex.py`. Implémentez une classe `Date` (calendrier grégorien) sans utiliser `datetime.date` pour la validation (vous pouvez l'utiliser pour les tests si besoin).\n",
    "\n",
    "**Contraintes fonctionnelles :**\n",
    "\n",
    "1. Constructeur : **`__**init**__**(self, year:int, month:int, day:int)`\n",
    "    - Valider : year ∈ [1, 9999], month ∈ [1,12], day valide selon le mois et les années bissextiles.\n",
    "    - En cas d'erreur : lever `InvalidDateError`.\n",
    "2. Méthodes & propriétés :\n",
    "    - `is_leap_year(self) -> bool`\n",
    "    - `__repr__` et `__str__` (formats `Date(2025,09,22)` et `2025-09-22`)\n",
    "    - Comparaisons : `__eq__`, `__lt__` (et déduire les autres via `functools.total_ordering`).\n",
    "    - `to_iso(self) -> str (YYYY-MM-DD)`\n",
    "    - `@classmethod from_iso(cls, s:str) -> \"Date\"` : parser `YYYY-MM-DD` ou lever `DateParseError`.\n",
    "3. Méthodes utilitaires :\n",
    "    - `day_of_year(self) -> int`\n",
    "    - `add_days(self, n:int) -> \"Date\"` (retourne un **nouvel** objet, ne modifie pas `self`).\n",
    "\n",
    "**Exceptions à définir :**\n",
    "``# errors.py\n",
    "class DateError(Exception): ...\n",
    "class InvalidDateError(DateError): ...\n",
    "class DateParseError(DateError): ...``"
   ]
  },
  {
   "cell_type": "markdown",
   "id": "7afb14f9",
   "metadata": {},
   "source": [
    "### **Exercice 2 — DateRange & recouvrement (30 min)**\n",
    "\n",
    "**Objectifs :** types composés, invariants, égalité, méthodes métier + erreurs.\n",
    "\n",
    "**Énoncé :**\n",
    "\n",
    "Créez `daterange.py` avec une `classe DateRange(start:Date, end:Date)` **incluse** (les bornes inclusives).\n",
    "\n",
    "- Lever `InvalidDateError` si `end < start`.\n",
    "- Méthodes :\n",
    "    - `duration(self) -> int (nb de jours, ex. [2025-09-01..2025-09-01] → 1)`\n",
    "    - `contains(self, d:Date) -> bool`\n",
    "    - `overlaps(self, other:\"DateRange\") -> bool`\n",
    "    - `intersection(self, other:\"DateRange\") -> \"DateRange | None\"`"
   ]
  }
 ],
 "metadata": {
  "kernelspec": {
   "display_name": "Python 3",
   "language": "python",
   "name": "python3"
  },
  "language_info": {
   "codemirror_mode": {
    "name": "ipython",
    "version": 3
   },
   "file_extension": ".py",
   "mimetype": "text/x-python",
   "name": "python",
   "nbconvert_exporter": "python",
   "pygments_lexer": "ipython3",
   "version": "3.12.3"
  }
 },
 "nbformat": 4,
 "nbformat_minor": 5
}
